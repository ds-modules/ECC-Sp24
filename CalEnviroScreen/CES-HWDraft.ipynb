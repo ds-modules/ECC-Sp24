{
 "cells": [
  {
   "cell_type": "markdown",
   "metadata": {},
   "source": [
    "# Homework Draft: Cal EnviroScreen"
   ]
  },
  {
   "cell_type": "markdown",
   "metadata": {},
   "source": [
    "---"
   ]
  },
  {
   "cell_type": "markdown",
   "metadata": {},
   "source": [
    "In this homework, students will gain experience with fundamental Exploratory Data Analysis and model exploration using the CalEnviroScreen data. This homework will build on methods introduced in lab. It will also serve as an application of data science in the field of social sciences and **environmental justice**. According to state law, environmental justice refers to the \"fair treatment of people of all races, cultures, and incomes with respect to the development, adoption, implementation and enforcement of environmental laws, regulations, and policies.\" \n",
    "\n",
    "By the end of this homework, students will be able to:\n",
    "- Perform basic tabular analysis using pandas and interpret results\n",
    "- Visualize and analyze CalEnviroScreen data\n",
    "- Identify how data-driven decision making can guide policy and resource allocation"
   ]
  },
  {
   "cell_type": "markdown",
   "metadata": {},
   "source": [
    "## Table of Contents"
   ]
  },
  {
   "cell_type": "markdown",
   "metadata": {},
   "source": [
    "1. [Introduction](#introduction)\n",
    "2. [A Closer Look at Census Tracts and Regional Data](#a-closer-look-at-census-tracts-and-regional-data)\n",
    "3. [Visualizing the Data](#visualizing-the-data)\n",
    "4. [Data-Driven Decision Making](#data-driven-decision-making)"
   ]
  },
  {
   "cell_type": "markdown",
   "metadata": {},
   "source": [
    "### Import Modules"
   ]
  },
  {
   "cell_type": "code",
   "execution_count": 1,
   "metadata": {},
   "outputs": [],
   "source": [
    "import numpy as np\n",
    "import pandas as pd\n",
    "import matplotlib.pyplot as plt\n",
    "import seaborn as sns\n",
    "import geopandas as gpd\n",
    "import seaborn as sns"
   ]
  },
  {
   "cell_type": "markdown",
   "metadata": {},
   "source": [
    "---"
   ]
  },
  {
   "cell_type": "markdown",
   "metadata": {},
   "source": [
    "## 1. Introduction\n"
   ]
  },
  {
   "cell_type": "markdown",
   "metadata": {},
   "source": [
    "The [California Communities Environmental Health Screening Tool](https://oehha.ca.gov/calenviroscreen) (CalEnviroScreen) provides accessible demographic and environmental information to identify communities that are susceptible to certain types of pollution. This tool utilizes environmental, health, and socioeconomic information to produce scores for every census tract in California, allowing us to compare qualities of different communities. "
   ]
  },
  {
   "cell_type": "markdown",
   "metadata": {},
   "source": [
    "### 1.1 Reading in CalEnviroScreen Data"
   ]
  },
  {
   "cell_type": "markdown",
   "metadata": {},
   "source": [
    "To begin exploring CalEnviroScreen, run the following cell to read in the data."
   ]
  },
  {
   "cell_type": "code",
   "execution_count": 3,
   "metadata": {},
   "outputs": [
    {
     "data": {
      "text/html": [
       "<div>\n",
       "<style scoped>\n",
       "    .dataframe tbody tr th:only-of-type {\n",
       "        vertical-align: middle;\n",
       "    }\n",
       "\n",
       "    .dataframe tbody tr th {\n",
       "        vertical-align: top;\n",
       "    }\n",
       "\n",
       "    .dataframe thead th {\n",
       "        text-align: right;\n",
       "    }\n",
       "</style>\n",
       "<table border=\"1\" class=\"dataframe\">\n",
       "  <thead>\n",
       "    <tr style=\"text-align: right;\">\n",
       "      <th></th>\n",
       "      <th>Census Tract</th>\n",
       "      <th>Total Population</th>\n",
       "      <th>California County</th>\n",
       "      <th>ZIP</th>\n",
       "      <th>Approximate Location</th>\n",
       "      <th>Longitude</th>\n",
       "      <th>Latitude</th>\n",
       "      <th>CES 4.0 Score</th>\n",
       "      <th>CES 4.0 Percentile</th>\n",
       "      <th>CES 4.0 Percentile Range</th>\n",
       "      <th>...</th>\n",
       "      <th>Linguistic Isolation Pctl</th>\n",
       "      <th>Poverty</th>\n",
       "      <th>Poverty Pctl</th>\n",
       "      <th>Unemployment</th>\n",
       "      <th>Unemployment Pctl</th>\n",
       "      <th>Housing Burden</th>\n",
       "      <th>Housing Burden Pctl</th>\n",
       "      <th>Pop. Char.</th>\n",
       "      <th>Pop. Char. Score</th>\n",
       "      <th>Pop. Char. Pctl</th>\n",
       "    </tr>\n",
       "  </thead>\n",
       "  <tbody>\n",
       "    <tr>\n",
       "      <th>0</th>\n",
       "      <td>6019001100</td>\n",
       "      <td>2780</td>\n",
       "      <td>Fresno</td>\n",
       "      <td>93706</td>\n",
       "      <td>Fresno</td>\n",
       "      <td>-119.781696</td>\n",
       "      <td>36.709695</td>\n",
       "      <td>93.18</td>\n",
       "      <td>100.00</td>\n",
       "      <td>95-100% (highest scores)</td>\n",
       "      <td>...</td>\n",
       "      <td>79.37</td>\n",
       "      <td>76.0</td>\n",
       "      <td>98.92</td>\n",
       "      <td>12.8</td>\n",
       "      <td>93.83</td>\n",
       "      <td>30.3</td>\n",
       "      <td>91.04</td>\n",
       "      <td>93.16</td>\n",
       "      <td>9.66</td>\n",
       "      <td>99.72</td>\n",
       "    </tr>\n",
       "    <tr>\n",
       "      <th>1</th>\n",
       "      <td>6077000700</td>\n",
       "      <td>4680</td>\n",
       "      <td>San Joaquin</td>\n",
       "      <td>95206</td>\n",
       "      <td>Stockton</td>\n",
       "      <td>-121.287873</td>\n",
       "      <td>37.943173</td>\n",
       "      <td>86.65</td>\n",
       "      <td>99.99</td>\n",
       "      <td>95-100% (highest scores)</td>\n",
       "      <td>...</td>\n",
       "      <td>95.53</td>\n",
       "      <td>73.2</td>\n",
       "      <td>98.39</td>\n",
       "      <td>19.8</td>\n",
       "      <td>99.21</td>\n",
       "      <td>31.2</td>\n",
       "      <td>92.28</td>\n",
       "      <td>93.17</td>\n",
       "      <td>9.66</td>\n",
       "      <td>99.74</td>\n",
       "    </tr>\n",
       "    <tr>\n",
       "      <th>2</th>\n",
       "      <td>6037204920</td>\n",
       "      <td>2751</td>\n",
       "      <td>Los Angeles</td>\n",
       "      <td>90023</td>\n",
       "      <td>Los Angeles</td>\n",
       "      <td>-118.197497</td>\n",
       "      <td>34.017500</td>\n",
       "      <td>82.39</td>\n",
       "      <td>99.97</td>\n",
       "      <td>95-100% (highest scores)</td>\n",
       "      <td>...</td>\n",
       "      <td>81.55</td>\n",
       "      <td>62.6</td>\n",
       "      <td>93.39</td>\n",
       "      <td>6.4</td>\n",
       "      <td>61.53</td>\n",
       "      <td>20.3</td>\n",
       "      <td>63.97</td>\n",
       "      <td>83.75</td>\n",
       "      <td>8.69</td>\n",
       "      <td>95.79</td>\n",
       "    </tr>\n",
       "    <tr>\n",
       "      <th>3</th>\n",
       "      <td>6019000700</td>\n",
       "      <td>3664</td>\n",
       "      <td>Fresno</td>\n",
       "      <td>93706</td>\n",
       "      <td>Fresno</td>\n",
       "      <td>-119.827707</td>\n",
       "      <td>36.734535</td>\n",
       "      <td>81.33</td>\n",
       "      <td>99.96</td>\n",
       "      <td>95-100% (highest scores)</td>\n",
       "      <td>...</td>\n",
       "      <td>78.71</td>\n",
       "      <td>65.7</td>\n",
       "      <td>95.35</td>\n",
       "      <td>15.7</td>\n",
       "      <td>97.35</td>\n",
       "      <td>35.4</td>\n",
       "      <td>96.41</td>\n",
       "      <td>94.64</td>\n",
       "      <td>9.82</td>\n",
       "      <td>99.89</td>\n",
       "    </tr>\n",
       "    <tr>\n",
       "      <th>4</th>\n",
       "      <td>6019000200</td>\n",
       "      <td>2689</td>\n",
       "      <td>Fresno</td>\n",
       "      <td>93706</td>\n",
       "      <td>Fresno</td>\n",
       "      <td>-119.805504</td>\n",
       "      <td>36.735491</td>\n",
       "      <td>80.75</td>\n",
       "      <td>99.95</td>\n",
       "      <td>95-100% (highest scores)</td>\n",
       "      <td>...</td>\n",
       "      <td>86.56</td>\n",
       "      <td>72.7</td>\n",
       "      <td>98.30</td>\n",
       "      <td>13.7</td>\n",
       "      <td>95.29</td>\n",
       "      <td>32.7</td>\n",
       "      <td>94.16</td>\n",
       "      <td>95.40</td>\n",
       "      <td>9.90</td>\n",
       "      <td>99.95</td>\n",
       "    </tr>\n",
       "  </tbody>\n",
       "</table>\n",
       "<p>5 rows × 59 columns</p>\n",
       "</div>"
      ],
      "text/plain": [
       "   Census Tract  Total Population California County    ZIP  \\\n",
       "0    6019001100              2780           Fresno   93706   \n",
       "1    6077000700              4680       San Joaquin  95206   \n",
       "2    6037204920              2751       Los Angeles  90023   \n",
       "3    6019000700              3664           Fresno   93706   \n",
       "4    6019000200              2689           Fresno   93706   \n",
       "\n",
       "  Approximate Location   Longitude   Latitude  CES 4.0 Score  \\\n",
       "0               Fresno -119.781696  36.709695          93.18   \n",
       "1             Stockton -121.287873  37.943173          86.65   \n",
       "2          Los Angeles -118.197497  34.017500          82.39   \n",
       "3               Fresno -119.827707  36.734535          81.33   \n",
       "4               Fresno -119.805504  36.735491          80.75   \n",
       "\n",
       "    CES 4.0 Percentile  CES 4.0 Percentile Range  ...  \\\n",
       "0               100.00  95-100% (highest scores)  ...   \n",
       "1                99.99  95-100% (highest scores)  ...   \n",
       "2                99.97  95-100% (highest scores)  ...   \n",
       "3                99.96  95-100% (highest scores)  ...   \n",
       "4                99.95  95-100% (highest scores)  ...   \n",
       "\n",
       "  Linguistic Isolation Pctl  Poverty  Poverty Pctl  Unemployment  \\\n",
       "0                     79.37     76.0         98.92          12.8   \n",
       "1                     95.53     73.2         98.39          19.8   \n",
       "2                     81.55     62.6         93.39           6.4   \n",
       "3                     78.71     65.7         95.35          15.7   \n",
       "4                     86.56     72.7         98.30          13.7   \n",
       "\n",
       "   Unemployment Pctl  Housing Burden  Housing Burden Pctl  Pop. Char.   \\\n",
       "0              93.83            30.3                91.04        93.16   \n",
       "1              99.21            31.2                92.28        93.17   \n",
       "2              61.53            20.3                63.97        83.75   \n",
       "3              97.35            35.4                96.41        94.64   \n",
       "4              95.29            32.7                94.16        95.40   \n",
       "\n",
       "   Pop. Char. Score  Pop. Char. Pctl  \n",
       "0              9.66            99.72  \n",
       "1              9.66            99.74  \n",
       "2              8.69            95.79  \n",
       "3              9.82            99.89  \n",
       "4              9.90            99.95  \n",
       "\n",
       "[5 rows x 59 columns]"
      ]
     },
     "execution_count": 3,
     "metadata": {},
     "output_type": "execute_result"
    }
   ],
   "source": [
    "# Read in the data\n",
    "\n",
    "ces = pd.read_csv('enviro.csv')\n",
    "ces.head()"
   ]
  },
  {
   "cell_type": "markdown",
   "metadata": {},
   "source": [
    "Before we begin any tabular analysis, let's familiarize ourselves with this DataFrame by looking at its dimensions and the data types of its columns. Run the following code cell to print the dimensions of `ces`."
   ]
  },
  {
   "cell_type": "code",
   "execution_count": 6,
   "metadata": {},
   "outputs": [
    {
     "name": "stdout",
     "output_type": "stream",
     "text": [
      "(2310, 59)\n"
     ]
    }
   ],
   "source": [
    "# Run this cell\n",
    "\n",
    "print(ces.shape)"
   ]
  },
  {
   "cell_type": "markdown",
   "metadata": {},
   "source": [
    "Now, let's take a look at some of the columns of our DataFrame. RUn the code cell below:"
   ]
  },
  {
   "cell_type": "code",
   "execution_count": 8,
   "metadata": {},
   "outputs": [
    {
     "name": "stdout",
     "output_type": "stream",
     "text": [
      "Index(['Census Tract', 'Total Population', 'California County', 'ZIP',\n",
      "       'Approximate Location', 'Longitude', 'Latitude', 'CES 4.0 Score',\n",
      "       ' CES 4.0 Percentile', 'CES 4.0 Percentile Range', 'DAC category',\n",
      "       'Ozone', 'Ozone Pctl', 'PM2.5', 'PM2.5 Pctl', 'Diesel PM',\n",
      "       'Diesel PM Pctl', 'Drinking Water', 'Drinking Water Pctl', 'Lead',\n",
      "       'Lead Pctl', 'Pesticides', 'Pesticides Pctl', 'Tox. Release',\n",
      "       'Tox. Release Pctl', 'Traffic', 'Traffic Pctl', 'Cleanup Sites',\n",
      "       'Cleanup Sites Pctl', 'Groundwater Threats', 'Groundwater Threats Pctl',\n",
      "       'Haz. Waste', 'Haz. Waste Pctl', 'Imp. Water Bodies',\n",
      "       'Imp. Water Bodies Pctl', 'Solid Waste', 'Solid Waste Pctl',\n",
      "       'Pollution Burden', 'Pollution Burden Score', 'Pollution Burden Pctl',\n",
      "       'Asthma', 'Asthma Pctl', 'Low Birth Weight', 'Low Birth Weight Pctl',\n",
      "       'Cardiovascular Disease', 'Cardiovascular Disease Pctl', 'Education',\n",
      "       'Education Pctl', 'Linguistic Isolation', 'Linguistic Isolation Pctl',\n",
      "       'Poverty', 'Poverty Pctl', 'Unemployment', 'Unemployment Pctl',\n",
      "       'Housing Burden', 'Housing Burden Pctl', 'Pop. Char. ',\n",
      "       'Pop. Char. Score', 'Pop. Char. Pctl'],\n",
      "      dtype='object')\n"
     ]
    }
   ],
   "source": [
    "# Run this cell\n",
    "\n",
    "print(ces.columns)"
   ]
  },
  {
   "cell_type": "markdown",
   "metadata": {},
   "source": [
    "Let's also examine the data types of some of our columns"
   ]
  },
  {
   "cell_type": "code",
   "execution_count": 12,
   "metadata": {},
   "outputs": [
    {
     "data": {
      "text/plain": [
       "Census Tract                  int64\n",
       "Total Population              int64\n",
       "California County            object\n",
       "ZIP                           int64\n",
       "Approximate Location         object\n",
       "Longitude                   float64\n",
       "Latitude                    float64\n",
       "CES 4.0 Score               float64\n",
       " CES 4.0 Percentile         float64\n",
       "CES 4.0 Percentile Range     object\n",
       "dtype: object"
      ]
     },
     "execution_count": 12,
     "metadata": {},
     "output_type": "execute_result"
    }
   ],
   "source": [
    "# Run this cell to return the data type of the first 10 columns of the DataFrame\n",
    "\n",
    "ces.dtypes[:10]"
   ]
  },
  {
   "cell_type": "markdown",
   "metadata": {},
   "source": [
    "**Question 1.1a:** Looking at this result, we can see that we will be primarily working with numerical data. Now that we've familiarized ourselves with the data, describe the granularity of `ces`. In other words, what does each row of the DataFrame represent? Refer back to the [CalEnviroScreen](https://oehha.ca.gov/calenviroscreen/report/calenviroscreen-40) website as needed."
   ]
  },
  {
   "cell_type": "markdown",
   "metadata": {},
   "source": [
    "*YOUR ANSWER HERE...*"
   ]
  },
  {
   "cell_type": "markdown",
   "metadata": {},
   "source": [
    "**Question 1.1b:** Describe the `Pollution_Burden_Pctl` category in the enviro dataset and what it represents by navigating the to the [CalEnviroScreen](https://oehha.ca.gov/calenviroscreen/report/calenviroscreen-40) website **in your own words**. What is the difference between a high score and a low score? "
   ]
  },
  {
   "cell_type": "markdown",
   "metadata": {},
   "source": [
    "*YOUR ANSWER HERE...*"
   ]
  },
  {
   "cell_type": "markdown",
   "metadata": {},
   "source": [
    "### 1.2 Reading in Community College Data"
   ]
  },
  {
   "cell_type": "markdown",
   "metadata": {},
   "source": [
    "Let's also read in data containing information about the locations of community colleges in California. We will familiarize ourselves with this data the same way we did for `ces`."
   ]
  },
  {
   "cell_type": "code",
   "execution_count": 17,
   "metadata": {},
   "outputs": [
    {
     "data": {
      "text/html": [
       "<div>\n",
       "<style scoped>\n",
       "    .dataframe tbody tr th:only-of-type {\n",
       "        vertical-align: middle;\n",
       "    }\n",
       "\n",
       "    .dataframe tbody tr th {\n",
       "        vertical-align: top;\n",
       "    }\n",
       "\n",
       "    .dataframe thead th {\n",
       "        text-align: right;\n",
       "    }\n",
       "</style>\n",
       "<table border=\"1\" class=\"dataframe\">\n",
       "  <thead>\n",
       "    <tr style=\"text-align: right;\">\n",
       "      <th></th>\n",
       "      <th>OPEID</th>\n",
       "      <th>College</th>\n",
       "      <th>City</th>\n",
       "      <th>State</th>\n",
       "      <th>Zip</th>\n",
       "      <th>yrs</th>\n",
       "      <th>EVDCode</th>\n",
       "    </tr>\n",
       "  </thead>\n",
       "  <tbody>\n",
       "    <tr>\n",
       "      <th>0</th>\n",
       "      <td>111100</td>\n",
       "      <td>ALLAN HANCOCK COLLEGE</td>\n",
       "      <td>SANTA MARIA</td>\n",
       "      <td>CA</td>\n",
       "      <td>93454</td>\n",
       "      <td>2</td>\n",
       "      <td>1</td>\n",
       "    </tr>\n",
       "    <tr>\n",
       "      <th>1</th>\n",
       "      <td>111300</td>\n",
       "      <td>ANTELOPE VALLEY COLLEGE</td>\n",
       "      <td>LANCASTER</td>\n",
       "      <td>CA</td>\n",
       "      <td>93534</td>\n",
       "      <td>2</td>\n",
       "      <td>1</td>\n",
       "    </tr>\n",
       "    <tr>\n",
       "      <th>2</th>\n",
       "      <td>111500</td>\n",
       "      <td>ARMSTRONG UNIVERSITY</td>\n",
       "      <td>BERKELEY</td>\n",
       "      <td>CA</td>\n",
       "      <td>94704</td>\n",
       "      <td>4</td>\n",
       "      <td>4</td>\n",
       "    </tr>\n",
       "    <tr>\n",
       "      <th>3</th>\n",
       "      <td>111600</td>\n",
       "      <td>ART CENTER COLLEGE OF DES</td>\n",
       "      <td>PASADENA</td>\n",
       "      <td>CA</td>\n",
       "      <td>91103</td>\n",
       "      <td>4</td>\n",
       "      <td>4</td>\n",
       "    </tr>\n",
       "    <tr>\n",
       "      <th>4</th>\n",
       "      <td>111700</td>\n",
       "      <td>AZUSA PACIFIC UNIVERSITY</td>\n",
       "      <td>AZUSA</td>\n",
       "      <td>CA</td>\n",
       "      <td>91702</td>\n",
       "      <td>4</td>\n",
       "      <td>4</td>\n",
       "    </tr>\n",
       "  </tbody>\n",
       "</table>\n",
       "</div>"
      ],
      "text/plain": [
       "    OPEID                    College         City State    Zip  yrs  EVDCode\n",
       "0  111100      ALLAN HANCOCK COLLEGE  SANTA MARIA    CA  93454    2        1\n",
       "1  111300    ANTELOPE VALLEY COLLEGE    LANCASTER    CA  93534    2        1\n",
       "2  111500       ARMSTRONG UNIVERSITY     BERKELEY    CA  94704    4        4\n",
       "3  111600  ART CENTER COLLEGE OF DES     PASADENA    CA  91103    4        4\n",
       "4  111700   AZUSA PACIFIC UNIVERSITY        AZUSA    CA  91702    4        4"
      ]
     },
     "execution_count": 17,
     "metadata": {},
     "output_type": "execute_result"
    }
   ],
   "source": [
    "# Read in the data\n",
    "\n",
    "colleges = pd.read_excel(\"College_codes_EVDtype.xlsx\")\n",
    "colleges.head()"
   ]
  },
  {
   "cell_type": "markdown",
   "metadata": {},
   "source": [
    "**Question 1.2a:** What are the dimensions of the `colleges` dataset? Fill in the code cell with the necessary code and print your answer."
   ]
  },
  {
   "cell_type": "code",
   "execution_count": null,
   "metadata": {},
   "outputs": [],
   "source": [
    "# TODO: Fill in the ellipses\n",
    "\n",
    "shape = ... \n",
    "print(shape)"
   ]
  },
  {
   "cell_type": "markdown",
   "metadata": {},
   "source": [
    "**Question 1.2b:** What are the columns of the dataset?"
   ]
  },
  {
   "cell_type": "code",
   "execution_count": null,
   "metadata": {},
   "outputs": [],
   "source": [
    "# TODO: Write code to print the columns of the enviro dataset\n",
    "\n",
    "print(...)"
   ]
  },
  {
   "cell_type": "markdown",
   "metadata": {},
   "source": [
    "**Question 1.2c:** What is the granularity of the `colleges` dataset? What does each row represent? "
   ]
  },
  {
   "cell_type": "markdown",
   "metadata": {},
   "source": [
    "*YOUR ANSWER HERE...*"
   ]
  },
  {
   "cell_type": "markdown",
   "metadata": {},
   "source": [
    "### 1.3 Merging `ces` and `colleges`"
   ]
  },
  {
   "cell_type": "markdown",
   "metadata": {},
   "source": [
    "Now that we have an understanding of both of our DataFrames, we will merge these two DataFrames to analyze the socioeconomic conditions of various community colleges in California using the [`pd.merge()`](https://pandas.pydata.org/docs/reference/api/pandas.DataFrame.merge.html) function in pandas.\n",
    "\n",
    "To use `pd.merge()`, we will pass in the following parameters into the function respectively:\n",
    "- The first DataFrame being merged\n",
    "- The second DataFrame being merged\n",
    "- **how** indicates the type of merge to be used\n",
    "- **left_on** and **right_on** parameters are assigned to the string names of the columns to be used when performing the join. These two on parameters tell pandas what values should act as pairing keys to determine which rows to merge across the DataFrames. We’ll talk more about this idea of a pairing key next lecture.\n",
    "\n",
    "We will be using an *inner* merge which will use the intersection of keys from both DataFrames( similar to a SQL inner join). It will preserve the order of the left keys."
   ]
  },
  {
   "cell_type": "code",
   "execution_count": 19,
   "metadata": {},
   "outputs": [
    {
     "data": {
      "text/plain": [
       "(208, 66)"
      ]
     },
     "execution_count": 19,
     "metadata": {},
     "output_type": "execute_result"
    }
   ],
   "source": [
    "# Merge enviro and collegecodes\n",
    "\n",
    "filtered_colleges = colleges[colleges['EVDCode'] != 4]\n",
    "ces_cc = pd.merge(ces, filtered_colleges, how='inner', left_on='ZIP', right_on='Zip')\n",
    "ces_cc.shape"
   ]
  },
  {
   "cell_type": "markdown",
   "metadata": {},
   "source": [
    "Notice that after joining both of our DataFrames, we are only left with 208 rows. It is important to keep track of the characteristics of our data as we perform manipulations. "
   ]
  },
  {
   "cell_type": "markdown",
   "metadata": {},
   "source": [
    "---"
   ]
  },
  {
   "cell_type": "markdown",
   "metadata": {},
   "source": [
    "## A Closer Look At Census Tracts and Regional Data"
   ]
  },
  {
   "cell_type": "markdown",
   "metadata": {},
   "source": [
    "**Question 4:** Find the most polluted zip codes and show the college there using the code cell below."
   ]
  },
  {
   "cell_type": "code",
   "execution_count": null,
   "metadata": {},
   "outputs": [],
   "source": [
    "# TODO: Write code to find the most polluted zip codes and display the colleges\n",
    "\n",
    "ces_cc.sort_values(by='CES 4.0 Score', ascending=False).head(10)"
   ]
  },
  {
   "cell_type": "markdown",
   "metadata": {},
   "source": [
    "**Question 5:** Find the least polluted zip codes and show the college there using the code cell below."
   ]
  },
  {
   "cell_type": "code",
   "execution_count": null,
   "metadata": {},
   "outputs": [],
   "source": [
    "# TODO: Write code to find the least polluted zip codes and display the colleges\n",
    "\n",
    "ces_cc.sort_values(by='CES 4.0 Score', ascending=True).head(10)"
   ]
  },
  {
   "cell_type": "markdown",
   "metadata": {},
   "source": [
    "Now that we have become more familiar with the data, let's take a closer look at the census tract for El Camino College. The relevant tract number is **6037603702**.\n",
    "\n",
    "**Question 6:** Filter the dataset for this tract number using the code cell below."
   ]
  },
  {
   "cell_type": "code",
   "execution_count": null,
   "metadata": {},
   "outputs": [],
   "source": [
    "# TODO: Fill in the ellipses\n",
    "\n",
    "ecc = ces[...]\n",
    "ecc"
   ]
  },
  {
   "cell_type": "markdown",
   "metadata": {},
   "source": [
    "**Question 7:** Based on this filtered data, let's examine three new measures of environmental health and interpret the scores for El Camino College. Before writing any code let's establish what these measures are. Refer back to the CalEnviroScreen website for context on these three health measures in the data and write definitions for each. "
   ]
  },
  {
   "cell_type": "markdown",
   "metadata": {},
   "source": [
    "- `PM2.5 Pctl`: *YOUR ANSWER HERE...*\n",
    "- `asthma_pctl`: *YOUR ANSWER HERE...*\n",
    "- `CES 4.0 Percentile`: *YOUR ANSWER HERE...*"
   ]
  },
  {
   "cell_type": "markdown",
   "metadata": {},
   "source": [
    "Now, write code in the cell below to obtain the values for these metrics, as well as `Pollution Burden Pctl`, for the **El Camino College** census tract. "
   ]
  },
  {
   "cell_type": "code",
   "execution_count": null,
   "metadata": {},
   "outputs": [],
   "source": [
    "# TODO: Fill in the ellipses\n",
    "\n",
    "pm25_pctl = ...\n",
    "asthma_pctl = ...\n",
    "ces4_pctl = ...\n",
    "plltn_burden_pctl = ..."
   ]
  },
  {
   "cell_type": "markdown",
   "metadata": {},
   "source": [
    "Briefly describe the real-world implications of at least two of these scores."
   ]
  },
  {
   "cell_type": "markdown",
   "metadata": {},
   "source": [
    "*YOUR ANSWER HERE...*"
   ]
  },
  {
   "cell_type": "markdown",
   "metadata": {},
   "source": [
    "Let's compare these four measures across other census tracts in **Los Angeles**. \n",
    "\n",
    "**Question 8:** Write code to filter the enviro_cc dataset to contain only Los Angeles county data. Additionally, make sure only the following columns are included in this new dataset: `Approximate Location`, `PM2.5 Pctl`, ` CES 4.0 Percentile`, `Asthma Pctl`, and `Pollution Burden Pctl`."
   ]
  },
  {
   "cell_type": "markdown",
   "metadata": {},
   "source": [
    "Use specific column name"
   ]
  },
  {
   "cell_type": "code",
   "execution_count": null,
   "metadata": {},
   "outputs": [],
   "source": [
    "# TODO: Filter for Los Angeles data\n",
    "\n",
    "la = ...\n",
    "la.head()"
   ]
  },
  {
   "cell_type": "markdown",
   "metadata": {},
   "source": [
    "TODO: Give a demo of groupby....include different agg functions...group by county find max PM2.5 for ex"
   ]
  },
  {
   "cell_type": "markdown",
   "metadata": {},
   "source": [
    "**Question 9:** With this new dataset, find the mean value for each of these four metrics based on the unique `Approximate Location`. Assign this new dataset to a new DataFrame. \n",
    "\n",
    "*Hint: you might find the `.grouby()` method useful*"
   ]
  },
  {
   "cell_type": "code",
   "execution_count": null,
   "metadata": {},
   "outputs": [],
   "source": [
    "# TODO: Write code to find the mean of PM2.5, CES4.0, Asthma, and Pollution Burden percentiles by approximate location\n",
    "\n",
    "city_means = ..."
   ]
  },
  {
   "cell_type": "markdown",
   "metadata": {},
   "source": [
    "---"
   ]
  },
  {
   "cell_type": "markdown",
   "metadata": {},
   "source": [
    "## Visualizing the Data"
   ]
  },
  {
   "cell_type": "markdown",
   "metadata": {},
   "source": [
    "[TODO:] \n",
    "- Add histograms looking at distributions of diff pollution measures\n",
    "- Add seaborn pairplots after assessing heatmap \n",
    "- Violinplot of multiple features side by side to compare distributions of multiple variables"
   ]
  },
  {
   "cell_type": "markdown",
   "metadata": {},
   "source": [
    "CalEnviroScreen is also a mapping tool that allows us to visualize the socioeconomic disparities across California. We will be using a package called `geopandas` to facilitate this mapping. "
   ]
  },
  {
   "cell_type": "markdown",
   "metadata": {},
   "source": [
    "The following code cell reads in a shape file (.shp) and contains information that will allow us to map the data using geopandas. A shapefile is a popular geospatial vector data format that stores the geometry of the features in our data. They are common for handling geospatial data. Simply run the cell below to read in the shapefile associated with CalEnviroScreen."
   ]
  },
  {
   "cell_type": "code",
   "execution_count": null,
   "metadata": {},
   "outputs": [],
   "source": [
    "# Provide the path to your GIS file (e.g., .shp file)\n",
    "file_path = 'calenviroscreen40shpf2021shp/CES4 Final Shapefile.shp'\n",
    "\n",
    "# Load the shapefile\n",
    "gdf = gpd.read_file(file_path)\n",
    "\n",
    "# Display the first few rows of the GeoDataFrame\n",
    "gdf.head()"
   ]
  },
  {
   "cell_type": "markdown",
   "metadata": {},
   "source": [
    "We can call `.plot()` to map the data."
   ]
  },
  {
   "cell_type": "code",
   "execution_count": null,
   "metadata": {},
   "outputs": [],
   "source": [
    "# map the data\n",
    "gdf.plot()"
   ]
  },
  {
   "cell_type": "markdown",
   "metadata": {},
   "source": [
    "**Question:** Like we did with the enviro data, let's merge the gdf data with collegecodes_public. Following the format from before, merge the necessary datasets on zipcode. "
   ]
  },
  {
   "cell_type": "code",
   "execution_count": null,
   "metadata": {},
   "outputs": [],
   "source": [
    "# TODO: Fill in the ellipses\n",
    "\n",
    "enviro_cc_shp = pd.merge(..., ..., how=..., left_on=..., right_on=...)\n",
    "enviro_cc_shp.head()"
   ]
  },
  {
   "cell_type": "markdown",
   "metadata": {},
   "source": [
    "We can use geopandas to visualize the spread of our metrics, like `Pollution Burden`. Run the following code cell below. The left plot displays the spread of pollution burden score across California and the right plot displays the spread of poverty across California.  "
   ]
  },
  {
   "cell_type": "code",
   "execution_count": null,
   "metadata": {},
   "outputs": [],
   "source": [
    "# Create a figure with subplots to compare pollution burden and population vulnerability\n",
    "fig, ax = plt.subplots(1, 2, figsize=(15, 7))\n",
    "\n",
    "# Plot Pollution Burden on the left\n",
    "gdf.plot(column='PolBurdSc', ax=ax[0], legend=True, cmap='OrRd')\n",
    "ax[0].set_title('Pollution Burden Score')\n",
    "\n",
    "# Plot Population Vulnerability on the right (example with 'Poverty' column)\n",
    "gdf.plot(column='Poverty', ax=ax[1], legend=True, cmap='PuBu')\n",
    "ax[1].set_title('Population Vulnerability (Poverty)')\n",
    "\n",
    "plt.show()"
   ]
  },
  {
   "cell_type": "markdown",
   "metadata": {},
   "source": [
    "**Question:** List an observation from each plot and how it relates to environmental justice.  "
   ]
  },
  {
   "cell_type": "markdown",
   "metadata": {},
   "source": [
    "*YOUR ANSWER HERE...*"
   ]
  },
  {
   "cell_type": "markdown",
   "metadata": {},
   "source": [
    "We can also draw some simple, but powerful analyses by observing the correlation between variables in our data. The code cell below computes the correlation coefficient between various socioeconomic variables in our data and plots a **heatmap** of these coefficients. A heatmap is a visualization that represents the magnitude of values using color. It allows us to easily observe the magnitudes of correlation across pairs of variables.\n",
    "\n",
    "Run the code cell below and interpret the heatmap."
   ]
  },
  {
   "cell_type": "code",
   "execution_count": null,
   "metadata": {},
   "outputs": [],
   "source": [
    "# Select columns for correlation matrix\n",
    "corr_columns = ['Poverty', 'Unempl', 'HousBurd', 'PolBurdSc', 'Asthma', 'Cardiovas']\n",
    "\n",
    "# Create a correlation matrix\n",
    "corr_matrix = gdf[corr_columns].corr()\n",
    "\n",
    "# Plot the heatmap\n",
    "plt.figure(figsize=(8, 6))\n",
    "sns.heatmap(corr_matrix, annot=True, cmap='coolwarm', vmin=-1, vmax=1)\n",
    "plt.title('Correlation Between Population Characteristics and Pollution Burden')\n",
    "plt.show()"
   ]
  },
  {
   "cell_type": "markdown",
   "metadata": {},
   "source": [
    "**Question:** Which variables are strongly correlated with each other, in either the positive or negative direction? Why might these variables be strongly correlated with one another?"
   ]
  },
  {
   "cell_type": "markdown",
   "metadata": {},
   "source": [
    "*YOUR ANSWER HERE...*"
   ]
  },
  {
   "cell_type": "markdown",
   "metadata": {},
   "source": [
    "---"
   ]
  },
  {
   "cell_type": "markdown",
   "metadata": {},
   "source": [
    "## Data-driven Decision Making"
   ]
  },
  {
   "cell_type": "markdown",
   "metadata": {},
   "source": [
    "Throughout this notebook, you gained valuable information about how to manipulate data to draw powerful analyses about socioeconomic disparaties across Los Angeles and California. Tools like CalEnviroScreen are essential for evaluating environmnetal justice because they help identify and prioritize communities that face higher environmnetal and health risks due to disproportionate effects of pollution. "
   ]
  },
  {
   "cell_type": "markdown",
   "metadata": {},
   "source": [
    "[TODO:] tie this in with an article related to CalEnviroScreen data..."
   ]
  },
  {
   "cell_type": "markdown",
   "metadata": {},
   "source": [
    "**Question:** Can you think of how an analysis of two other variables in the data not used in this notebook may be helpful for identifying marginalized communities? You may use the optional code cell as scratch work."
   ]
  },
  {
   "cell_type": "markdown",
   "metadata": {},
   "source": [
    "*YOUR ANSWER HERE...*"
   ]
  },
  {
   "cell_type": "code",
   "execution_count": null,
   "metadata": {},
   "outputs": [],
   "source": [
    "# Optional code cell for scratch work"
   ]
  },
  {
   "cell_type": "markdown",
   "metadata": {},
   "source": [
    "**Question:** In 3-4 sentences, how might access to CalEnviroScreen data help guide resource allocation and inform policymaking?"
   ]
  },
  {
   "cell_type": "markdown",
   "metadata": {},
   "source": [
    "*YOUR ANSWER HERE...*"
   ]
  },
  {
   "cell_type": "markdown",
   "metadata": {},
   "source": [
    "---"
   ]
  },
  {
   "cell_type": "markdown",
   "metadata": {},
   "source": [
    "# Congratulations, you are finished with the notebook!"
   ]
  }
 ],
 "metadata": {
  "kernelspec": {
   "display_name": "Python 3.9.6 64-bit",
   "language": "python",
   "name": "python3"
  },
  "language_info": {
   "codemirror_mode": {
    "name": "ipython",
    "version": 3
   },
   "file_extension": ".py",
   "mimetype": "text/x-python",
   "name": "python",
   "nbconvert_exporter": "python",
   "pygments_lexer": "ipython3",
   "version": "3.9.6"
  },
  "orig_nbformat": 4,
  "vscode": {
   "interpreter": {
    "hash": "31f2aee4e71d21fbe5cf8b01ff0e069b9275f58929596ceb00d14d90e3e16cd6"
   }
  }
 },
 "nbformat": 4,
 "nbformat_minor": 2
}
