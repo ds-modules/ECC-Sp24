{
 "cells": [
  {
   "cell_type": "markdown",
   "metadata": {},
   "source": [
    "##  Chemistry Module - Visualizing Atomic Orbitals Using Programming\n",
    "\n",
    "**Estimated Time:** 15-30 minutes <br>\n",
    "**Notebook Developed By:** Lan Dinh <br>\n",
    "\n",
    "Welcome! This notebook will help you understand and visualize atomic orbitals using Python programming. By the end of this lesson, you will be able to plot wave functions of different orbitals and gain insights into their shapes and properties.\n",
    "\n",
    "One source for this notebook is:  \n",
    "https://weisscharlesj.github.io/SciCompforChemists/notebooks/chapter_03/chap_03_notebook.html\n",
    "\n",
    "**Note: To run a cell, first move your cursor over it and click once. After that, press `Ctrl + Enter` on your keyboard. Remember to run the cells sequentially from top to bottm of this notebook to avoid errors.**\n"
   ]
  },
  {
   "cell_type": "markdown",
   "metadata": {},
   "source": [
    "### Learning Outcomes\n",
    "In this notebook, you will learn how to:\n",
    "\n",
    "- Define and understand the wave functions of atomic orbitals.\n",
    "- Use Python to generate and visualize the shapes of 3s, 3p, and $d_{z^2}$ orbitals.\n",
    "  \n",
    "### Table of Contents\n",
    "1. Context Background <br>\n",
    "2. The 3s Atomic Orbital of Hydrogen <br>\n",
    ">2.1. 3s Orbital Wave Function\n",
    "<br>2.2.  Calculate and Visualize 3s Orbital Wave Function<br>\n",
    "3. The 3s Atomic Orbital of Hydrogen <br>\n",
    ">3.1. 3p Orbital Wave Function\n",
    "<br>3.2.  Calculate and Visualize 3p Orbital Wave Function<br>\n",
    "4. The 3s Atomic Orbital of Hydrogen <br>\n",
    ">4.1. Visualizing $d_{z^2}$ Orbital\n",
    "<br>4.2.  Calculate and Visualize $d_{z^2}$ Orbital<br>"
   ]
  },
  {
   "cell_type": "markdown",
   "metadata": {},
   "source": [
    "------------------\n",
    "## Run the cell below to import all our required materials for this notebook!"
   ]
  },
  {
   "cell_type": "code",
   "execution_count": null,
   "metadata": {},
   "outputs": [],
   "source": [
    "import matplotlib.pyplot as plt\n",
    "import math\n",
    "import numpy as np\n",
    "%matplotlib inline  "
   ]
  },
  {
   "cell_type": "markdown",
   "metadata": {},
   "source": [
    "## 1. Context Background\n",
    "\n",
    "Atomic orbitals are fundamental concepts in quantum chemistry and atomic physics, describing the regions in an atom where electrons are most likely to be found. Understanding the shapes and properties of these orbitals is crucial for comprehending chemical bonding, electron configurations, and the behavior of atoms in various chemical reactions.\n",
    "\n",
    "Traditional methods of teaching atomic orbitals often rely on static images and mathematical equations, which can be abstract and challenging for students to visualize and grasp. However, with the advent of programming and computational tools, we can create dynamic visualizations that bring these abstract concepts to life.\n",
    "\n",
    "This module aims to leverage the power of Python programming to visualize atomic orbitals, making the learning process more interactive and engaging. By combining theoretical principles with practical coding exercises, students can gain a deeper understanding of the spatial distributions and characteristics of different orbitals.\n",
    "\n",
    "First we wil learn about hydrogren atom. The hydrogen atom, being the simplest atom with one proton and one electron, serves as an ideal model for studying atomic orbitals. We will focus on the hydrogen atom's 3s and 3p orbitals, exploring their wave functions and visualizing their shapes using Python.\n",
    "\n",
    "Moving on, students will be introduced the concept of radial wave functions and how they describe the probability density of finding an electron at various distances from the nucleus. Additionally, we will visualize the $d_{z^2}$ orbital, which has a distinct shape and is essential for understanding the properties of transition metals and their complexes."
   ]
  },
  {
   "cell_type": "markdown",
   "metadata": {},
   "source": [
    "## 2. The 3s Atomic Orbital of Hydrogen"
   ]
  },
  {
   "cell_type": "markdown",
   "metadata": {},
   "source": [
    "The 3s atomic orbital of hydrogen is a specific region around the nucleus where there is a high probability of finding an electron. This region is defined by two key quantum numbers: the principal quantum number ($𝑛=3$) and the angular momentum quantum number ($l=0$). These quantum numbers give us information about the size and shape of the orbital.\n",
    "\n",
    " ### 2.1. 3s Orbital Wave Function\n",
    "A wave function, denoted as $\\psi$, is a mathematical equation that describes the behavior and location of an electron in an atom. For the 3s orbital, the wave function is written as  $\\psi_{3s}$. This function tells us how the electron's probability of being found at a certain distance from the nucleus changes as we move away from the nucleus.\n",
    "The following equation defines the wave function ($\\psi$) for the 3s atomic orbital of hydrogen with respect to atomic radius ($r$) in Bohrs ($a_0$).\n",
    "\n",
    "$$ \\psi_{3s} = \\frac{2}{27}\\sqrt{3}(2r^{2/9} - 2r + 3)e^{-r/3} $$\n",
    "\n",
    "Here:\n",
    "\n",
    "- $r$ is the distance from the nucleus.\n",
    "\n",
    "- The expression inside the parentheses $ \\frac{2r^2}{9} - 2r + 3 $ shows how the probability changes with distance.\n",
    "\n",
    "- The exponential term $e^{-\\frac{r}{3}}$ shows how the probability decreases as we move farther from the nucleus."
   ]
  },
  {
   "cell_type": "markdown",
   "metadata": {},
   "source": [
    "### 2.2. Calculate and Visualize 3s Orbital Wave Function\n",
    "First, we define a function `orbital_3S` to calculate the wave function $\\psi_{3s}$ for a given distance `r`."
   ]
  },
  {
   "cell_type": "code",
   "execution_count": null,
   "metadata": {},
   "outputs": [],
   "source": [
    "## Run this cell\n",
    "def orbital_3S(r):\n",
    "    wf = (2/27)*math.sqrt(3)*(2*r**2/9 - 2*r + 3)* math.exp(-r/3)\n",
    "    return wf"
   ]
  },
  {
   "cell_type": "markdown",
   "metadata": {},
   "source": [
    "Next, we will generate points on this curve using a method called ***list comprehension*** covered in section [2.1.2](https://weisscharlesj.github.io/SciCompforChemists/notebooks/chapter_02/chap_02_notebook.html#list-comprehension). In the examples below, `r` is the distance from the nucleus and `psi_3s` is the wave function."
   ]
  },
  {
   "cell_type": "markdown",
   "metadata": {},
   "source": [
    "<div class=\" alert alert-info\">\n",
    "    \n",
    "**Explain the cell below:** <br>\n",
    "- `range(1, 150, 3)`: Generates numbers from 1 to 149, stepping by 3.\n",
    "- `num / 4`: Divides each number by 4 to get fractional distances.\n",
    "- `r`: List of distance values.\n",
    "\n",
    "***Note: To see the values of r after generating uncomment the last line of the cell below by highlighting that line then press `Ctrl + /` from the keyborad. Run the cell again.*** \n",
    "</div>"
   ]
  },
  {
   "cell_type": "code",
   "execution_count": null,
   "metadata": {},
   "outputs": [],
   "source": [
    "## Run this cell\n",
    "# Generate points for r\n",
    "r = [num / 4 for num in range(1, 150, 3)]\n",
    "\n",
    "## Optional: Uncomment the line below to see values of r (hightlight the line then press Ctrl + /)\n",
    "# r"
   ]
  },
  {
   "cell_type": "markdown",
   "metadata": {},
   "source": [
    "Now we can use values for r we just generated above into our function for $\\psi_{3s}$"
   ]
  },
  {
   "cell_type": "markdown",
   "metadata": {},
   "source": [
    "<div class=\" alert alert-info\">\n",
    "    \n",
    "**Explain the cell below:**\n",
    "- `orbital_3S(num)`: Calls the function for each distance value num.\n",
    "- `psi_3s`: List of wave function values corresponding to each distance.\n",
    "  \n",
    "***Note: To see the values of wave functions after generating uncomment the last line of the cell below by highlighting that line then press `Ctrl + /` from the keyborad. Run the cell again.*** \n",
    "</div>"
   ]
  },
  {
   "cell_type": "code",
   "execution_count": null,
   "metadata": {},
   "outputs": [],
   "source": [
    "## Run this cell\n",
    "# Genarete points for psi_3s\n",
    "psi_3s = [orbital_3S(num) for num in r]\n",
    "\n",
    "## Optional: Uncomment the line below to see values of psi_3s (hightlight the line then press Ctrl + /)\n",
    "# psi_3s"
   ]
  },
  {
   "cell_type": "markdown",
   "metadata": {},
   "source": [
    "####  Vissualize 3s Orbital Wave Function\n",
    "\n",
    "To visualize the 3s wave functions, we will call the `plot()` function, which is a general-purpose function for plotting. The `r` and `psi_3s` data are fed into it as positional arguments as the $x$ and $y$ variables, respectively. "
   ]
  },
  {
   "cell_type": "code",
   "execution_count": null,
   "metadata": {},
   "outputs": [],
   "source": [
    "## Run the cell to visualize\n",
    "plt.plot(r, psi_3s);"
   ]
  },
  {
   "cell_type": "markdown",
   "metadata": {},
   "source": [
    "Now we can add additional arguments to make the graph have more information"
   ]
  },
  {
   "cell_type": "code",
   "execution_count": null,
   "metadata": {},
   "outputs": [],
   "source": [
    "## Run the cell \n",
    "plt.figure(figsize=(8,4))\n",
    "plt.plot(r, psi_3s, 'go-')\n",
    "plt.xlabel('Radius, Bohrs')\n",
    "plt.ylabel('Wave Function, $\\Psi$')\n",
    "plt.title('3S Radial Wave Function');"
   ]
  },
  {
   "cell_type": "markdown",
   "metadata": {},
   "source": [
    "## 3. The 3p Atomic Orbital of Hydrogen\n",
    "\n",
    "In this section, we will explore the 3p atomic orbital of hydrogen, which is another region around the nucleus where there is a high probability of finding an electron. This orbital is defined by the principal quantum number $n=3$ and the angular momentum quantum number $l=1$. The 3p orbital has a different shape compared to the 3s orbital, and understanding this shape will give us more insight into the behavior of electrons in atoms."
   ]
  },
  {
   "cell_type": "markdown",
   "metadata": {},
   "source": [
    "### 3.1. The 3p Orbital Wave Function\n",
    "The wave function ($\\psi_{3p}$) for the 3p orbital describes the probability distribution of finding an electron in this orbital. The mathematical form of the 3p wave function is:\n",
    "$$\n",
    "\\psi_{3p} =\\frac{\\sqrt{6} r \\left(4-\\frac{2 r}{3}\\right) e^{-\\frac{r}{3}}}{81}\n",
    "$$\n",
    "\n",
    "Here:\n",
    "- $r$ is the distance from the nucleus.\n",
    "- The expression inside the parentheses \n",
    "$\\left(4-\\frac{2 r}{3}\\right)$ shows how the probability changes with distance.\n",
    "- The exponential term ($e^{-\\frac{r}{3}}$) shows how the probability decreases as we move farther from the nucleus."
   ]
  },
  {
   "cell_type": "markdown",
   "metadata": {},
   "source": [
    "### 3.2. Calculate and Visualize 3p Orbital Wave Function\n",
    "\n",
    "Similar to Section 2, we first have to define a function `orbital_3P` to calculate the wave function \n",
    "$\\psi_{3p}$ for a given distance `r`."
   ]
  },
  {
   "cell_type": "code",
   "execution_count": null,
   "metadata": {},
   "outputs": [],
   "source": [
    "## Run this cell\n",
    "def orbital_3P(r):\n",
    "    wf = (math.sqrt(6)*r*(4-(2/3)*r)*math.e**(-r/3))/81\n",
    "    return wf"
   ]
  },
  {
   "cell_type": "markdown",
   "metadata": {},
   "source": [
    "Next, we calculate the wave function values for the 3p orbital for each distance r. \n",
    "\n",
    "Note that we re-use the values `r` in Section 2."
   ]
  },
  {
   "cell_type": "code",
   "execution_count": null,
   "metadata": {},
   "outputs": [],
   "source": [
    "## Run this cell\n",
    "psi_3p = [orbital_3P(num) for num in r]"
   ]
  },
  {
   "cell_type": "markdown",
   "metadata": {},
   "source": [
    "####  Vissualize 3p Orbital Wave Function\n",
    "\n",
    "Finally, we will plot the wave function values of both the 3s and 3p orbitals. By visualizing the 3s and 3p orbitals together, we can observe the differences in their shapes and understand how the probability distributions vary with distance from the nucleus. This comparison helps in understanding the distinct characteristics of different orbitals and their roles in chemical bonding and atomic structure."
   ]
  },
  {
   "cell_type": "code",
   "execution_count": null,
   "metadata": {},
   "outputs": [],
   "source": [
    "## Run this cell\n",
    "plt.plot(r, psi_3s, label='3s orbital')\n",
    "plt.plot(r, psi_3p, label='3p orbital')\n",
    "# plot horisontal line at y=0\n",
    "plt.hlines(0, 0, 35, linestyle='dashed', color='red')\n",
    "plt.xlabel('Radius, Bohrs')\n",
    "plt.ylabel('Wave Function')\n",
    "plt.legend();"
   ]
  },
  {
   "cell_type": "markdown",
   "metadata": {},
   "source": [
    "## 4. Visualizing $d_{z^2}$ Orbital\n",
    "\n",
    "In this section, we will explore the $d_{z^2}$ orbital, which is one of the five d orbitals. The $d_{z^2}$ orbital has a distinct shape that is crucial for understanding the properties of transition metals and their complexes. This orbital is characterized by its unique \"doughnut\" shape along the z-axis and two lobes along the z-axis, which are important in the formation of chemical bonds in transition metals."
   ]
  },
  {
   "cell_type": "markdown",
   "metadata": {},
   "source": [
    "### 4.1. The $d_{z^2}$ Orbital Wave Function\n",
    "The wave function for the  $d_{z^2}$ orbital is more complex than those for the s and p orbitals. Instead of focusing on the detailed mathematical expression, we will use a simplified representation to understand its shape. The $d_{z^2}$ orbital can be described using spherical coordinates (radius r, polar angle $\\theta$, and azimuthal angle $\\phi$)."
   ]
  },
  {
   "cell_type": "markdown",
   "metadata": {},
   "source": [
    "### 4.2. Calculate and Visualize $d_{z^2}$ Orbital Wave Function\n",
    "\n",
    "We start by generating a range of angle values, $\\theta$, which will be used to plot the $d_{z^2}$ orbital. The angle $\\theta$ ranges from 0 to 360 degrees."
   ]
  },
  {
   "cell_type": "code",
   "execution_count": null,
   "metadata": {},
   "outputs": [],
   "source": [
    "## Run this cell\n",
    "theta = np.arange(0, 360,0.1)"
   ]
  },
  {
   "cell_type": "markdown",
   "metadata": {},
   "source": [
    "Next, we calculate the radial distance values using the formula for the $d_{z^2}$ orbital. This formula gives us the distance from the origin to the surface of the orbital at each angle $\\theta$."
   ]
  },
  {
   "cell_type": "code",
   "execution_count": null,
   "metadata": {},
   "outputs": [],
   "source": [
    "r = [abs(0.5 * (3 * math.cos(num)**2\n",
    "-           1)) for num in theta]"
   ]
  },
  {
   "cell_type": "markdown",
   "metadata": {},
   "source": [
    "#### Visualize\n",
    "Finally, we use a polar plot to visualize the $d_{z^2}$ orbital. A polar plot is ideal for representing data in terms of angles and distances, which is perfect for visualizing the shape of orbitals."
   ]
  },
  {
   "cell_type": "code",
   "execution_count": null,
   "metadata": {},
   "outputs": [],
   "source": [
    "## Run this cell\n",
    "plt.polar(theta, r)\n",
    "plt.title(r'$d_{z^2} \\,$' + 'Orbital');"
   ]
  },
  {
   "cell_type": "markdown",
   "metadata": {},
   "source": [
    "-------------\n",
    "# Congratulations! You Have Completed the Notebook!<a id='0'></a>"
   ]
  }
 ],
 "metadata": {
  "kernelspec": {
   "display_name": "Python 3 (ipykernel)",
   "language": "python",
   "name": "python3"
  },
  "language_info": {
   "codemirror_mode": {
    "name": "ipython",
    "version": 3
   },
   "file_extension": ".py",
   "mimetype": "text/x-python",
   "name": "python",
   "nbconvert_exporter": "python",
   "pygments_lexer": "ipython3",
   "version": "3.11.9"
  }
 },
 "nbformat": 4,
 "nbformat_minor": 4
}
